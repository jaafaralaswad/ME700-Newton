{
 "cells": [
  {
   "cell_type": "markdown",
   "id": "97cd104d-f5f8-4587-8840-631638868731",
   "metadata": {},
   "source": [
    "# Numerical Example 1: Solving a relatively easy algebraic equation"
   ]
  },
  {
   "cell_type": "markdown",
   "id": "89409cdc-8b56-4ee2-8314-0e2e5d1fcfd4",
   "metadata": {},
   "source": [
    "In this numerical example, we we consider the relatively easy function:\n",
    "\n",
    "$$f(x) = -e^{-x}-1 = 0$$\n",
    "\n",
    "The user should perscribe the following things:\n",
    "\n",
    "- An initial guess,  $x_0$.\n",
    "\n",
    "- The maximum number of iterations, after which the procedure is terminated even if convergence is not achieved.\n",
    "\n",
    "- Termination criteria for both the input and output, denoted as $\\epsilon_1$ and $\\epsilon_2$, respectively. The procedure stops if either the change in $x$ falls below $\\epsilon_1$ or the absolute value of $f(x)$ is less than $\\epsilon_2$.\n"
   ]
  },
  {
   "cell_type": "code",
   "execution_count": 5,
   "id": "cb428efe-9912-4d98-9ffe-29622d38e955",
   "metadata": {},
   "outputs": [
    {
     "name": "stdout",
     "output_type": "stream",
     "text": [
      "Iteration |        x        |       f(x)      \n",
      "------------------------------------------------\n",
      "    1     |   0.00000000    |   1.00000000   \n",
      "    2     |   0.50000000    |   0.10653066   \n",
      "    3     |   0.56631100    |   0.00130451   \n",
      "    4     |   0.56714317    |   0.00000020   \n",
      "    5     |   0.56714329    |   0.00000000   \n",
      "    6     |   0.56714329    |   -0.00000000  \n",
      "    7     |   0.56714329    |   0.00000000   \n",
      "Root found at x = 0.56714329 after 7 iterations.\n"
     ]
    }
   ],
   "source": [
    "# Import the solver function \"newton\" to be called from this notebook (Don't touch!)\n",
    "import sys\n",
    "import os\n",
    "project_path = os.path.abspath(\"..\")\n",
    "sys.path.append(project_path)\n",
    "from newton import newton\n",
    "\n",
    "# Import NumPy library to be used in this notebook (Don't touch!)\n",
    "import numpy as np\n",
    "\n",
    "# Define the function here!\n",
    "def f(x):\n",
    "    return np.exp(-x) - x\n",
    "\n",
    "# Define the derivative of the function here!\n",
    "def df(x):\n",
    "    return -np.exp(-x) - 1.0\n",
    "    \n",
    "# Perscribe the initial guess here!\n",
    "x0 = 0.0\n",
    "\n",
    "# Perscribe the tolerances for input and output here!\n",
    "epsilon_1 = 1e-30 # tolerance for input\n",
    "epsilon_2 = 1e-30 # tolerance for output\n",
    "\n",
    "# Perscribe the maximum number of iterations here!\n",
    "max_iterations = 100\n",
    "\n",
    "# Call the solver\n",
    "root = newton(f, df, x0, epsilon_1, epsilon_2, max_iterations)\n"
   ]
  },
  {
   "cell_type": "markdown",
   "id": "27538743-a60b-4f1f-968a-8ff4e3c599d5",
   "metadata": {},
   "source": [
    "# Numerical Example 2: Solving a more complicated algebraic equation"
   ]
  },
  {
   "cell_type": "markdown",
   "id": "0ed259f1-453e-4f6a-b8c4-84f199869eec",
   "metadata": {},
   "source": [
    "In this numerical example, we we consider the function:\n",
    "\n",
    "$$f(x) = x^{10} - 1 = 0$$\n",
    "\n",
    "The objective is to determine the positive root of this function. Despite the Newton's method has a fast convergence rate, in comparison to the bisection method, this particular example shows the difficulty this method faces when small derivatives are involved. Too many iterations are needed to converge."
   ]
  },
  {
   "cell_type": "code",
   "execution_count": 46,
   "id": "8491fffe-6489-4e7a-8f1c-30114a35c6f1",
   "metadata": {},
   "outputs": [
    {
     "name": "stdout",
     "output_type": "stream",
     "text": [
      "Iteration |        x        |       f(x)      \n",
      "------------------------------------------------\n",
      "    1     |   0.50000000    |   -0.99902344  \n",
      "    2     |   51.65000000   | 135114904483913696.00000000\n",
      "    3     |   46.48500000   | 47111654129711536.00000000\n",
      "    4     |   41.83650000   | 16426818072478544.00000000\n",
      "    5     |   37.65285000   | 5727677301318307.00000000\n",
      "    6     |   33.88756500   | 1997117586819845.25000000\n",
      "    7     |   30.49880850   | 696351844868619.50000000\n",
      "    8     |   27.44892765   | 242802875029547.34375000\n",
      "    9     |   24.70403489   | 84660127717097.56250000\n",
      "   10     |   22.23363140   | 29519161271064.09765625\n",
      "   11     |   20.01026826   | 10292695105054.69726562\n",
      "   12     |   18.00924143   | 3588840873655.11279297\n",
      "   13     |   16.20831729   | 1251351437592.92236328\n",
      "   14     |   14.58748556   | 436319267276.52893066\n",
      "   15     |   13.12873700   | 152135121499.29125977\n",
      "   16     |   11.81586330   | 53046236848.53292847\n",
      "   17     |   10.63427697   | 18496079117.25769043\n",
      "   18     |   9.57084928    | 6449184014.30769062\n",
      "   19     |   8.61376435    | 2248691421.76276255\n",
      "   20     |   7.75238791    | 784070216.94259059\n",
      "   21     |   6.97714912    | 273388379.90850991\n",
      "   22     |   6.27943421    | 95324633.58406432\n",
      "   23     |   5.65149080    | 33237644.27729456\n",
      "   24     |   5.08634174    | 11589249.69530470\n",
      "   25     |   4.57770761    | 4040921.24178719\n",
      "   26     |   4.11993696    | 1408981.85125229\n",
      "   27     |   3.70794356    | 491281.33012293\n",
      "   28     |   3.33714995    | 171298.94393684\n",
      "   29     |   3.00343691    | 59727.98466273 \n",
      "   30     |   2.70309824    | 20825.59662469 \n",
      "   31     |   2.43280140    |  7261.17265348 \n",
      "   32     |   2.18955476    |  2531.55047972 \n",
      "   33     |   1.97068574    |  882.43324773  \n",
      "   34     |   1.77384024    |  307.42176658  \n",
      "   35     |   1.59703135    |  106.92806963  \n",
      "   36     |   1.43880793    |   37.02141119  \n",
      "   37     |   1.29871134    |   12.64980151  \n",
      "   38     |   1.17835472    |   4.16131590   \n",
      "   39     |   1.08334975    |   1.22682910   \n",
      "   40     |   1.02366466    |   0.26350542   \n",
      "   41     |   1.00231602    |   0.02340312   \n",
      "   42     |   1.00002393    |   0.00023937   \n",
      "   43     |   1.00000000    |   0.00000003   \n",
      "   44     |   1.00000000    |   0.00000000   \n",
      "Root found at x = 1.00000000 after 44 iterations.\n"
     ]
    }
   ],
   "source": [
    "# Import the solver function \"newton\" to be called from this notebook (Don't touch!)\n",
    "import sys\n",
    "import os\n",
    "project_path = os.path.abspath(\"..\")\n",
    "sys.path.append(project_path)\n",
    "from newton import newton\n",
    "\n",
    "# Import NumPy library to be used in this notebook (Don't touch!)\n",
    "import numpy as np\n",
    "\n",
    "# Define the function here!\n",
    "def f(x):\n",
    "    return x**10-1\n",
    "\n",
    "# Define the derivative of the function here!\n",
    "def df(x):\n",
    "    return 10*x**9\n",
    "    \n",
    "# Perscribe the initial guess here!\n",
    "x0 = 0.5\n",
    "\n",
    "# Perscribe the tolerances for input and output here!\n",
    "epsilon_1 = 1e-30 # tolerance for input\n",
    "epsilon_2 = 1e-30 # tolerance for output\n",
    "\n",
    "# Perscribe the maximum number of iterations here!\n",
    "max_iterations = 100\n",
    "\n",
    "# Call the solver\n",
    "root = newton(f, df, x0, epsilon_1, epsilon_2, max_iterations)"
   ]
  },
  {
   "cell_type": "markdown",
   "id": "a92b405a-a015-46df-9406-dd90015ae87b",
   "metadata": {},
   "source": [
    "# Numerical Example 3: Solving two nonlinearly coupled equations"
   ]
  },
  {
   "cell_type": "markdown",
   "id": "6ac6d216-6a5a-43b0-8af3-49ba3bd4bc51",
   "metadata": {},
   "source": [
    "As opposed to the bisection method, the Newton's can be generalized to handle coupled equations. The generalized procedure is called Newton-Raphson. In this numerical example, we we consider the coupled functions:\n",
    "\n",
    "$$f(x,y) = x^2 + xy - 10 = 0$$\n",
    "\n",
    "and\n",
    "\n",
    "$$g(x,y) = y + 3xy^2 - 57 = 0$$\n",
    "\n",
    "The objective is to determine the values of $x$ and $y$ that can simultaneously satisfy both equations. In this example, the derivatives of $f$ and $g$ with respect to $x$ and $y$ are all needed. We need initial guesses for both $x$ and $y$.\n",
    "\n",
    "Concerning the termination criteria, we terminate if the norm of the residual falls down the persctibed tolerance $\\epsilon$."
   ]
  },
  {
   "cell_type": "code",
   "execution_count": 50,
   "id": "5cd78c37-f6bf-4ccc-8851-d31e140614e2",
   "metadata": {},
   "outputs": [
    {
     "name": "stdout",
     "output_type": "stream",
     "text": [
      "Iteration |        x        |        y        |      ||F||      \n",
      "---------------------------------------------------------------\n",
      "    1     |   -2.50000000   |   13.50000000   |  1410.87344954 \n",
      "    2     |   9.15251175    |   38.11853993   | 39879.79083894 \n",
      "    3     |   2.50675533    |   32.90995912   |  8121.23204213 \n",
      "    4     |   0.75166585    |   28.03435176   |  1743.33186251 \n",
      "    5     |   0.66499139    |   15.95810320   |  467.00152438  \n",
      "    6     |   1.06231574    |   4.04337398    |   4.65508231   \n",
      "    7     |   2.13821642    |   2.10419927    |   26.51022510  \n",
      "    8     |   1.93420614    |   3.14736387    |   3.63155514   \n",
      "    9     |   1.99951761    |   2.99897506    |   0.05122053   \n",
      "   10     |   1.99999998    |   3.00000042    |   0.00001523   \n",
      "   11     |   2.00000000    |   3.00000000    |   0.00000000   \n",
      "   12     |   2.00000000    |   3.00000000    |   0.00000000   \n",
      "Root found at (x, y) = (2.00000000, 3.00000000) after 12 iterations.\n"
     ]
    }
   ],
   "source": [
    "# Import the solver function \"newton_raphson\" to be called from this notebook (Don't touch!)\n",
    "import sys\n",
    "import os\n",
    "project_path = os.path.abspath(\"..\")\n",
    "sys.path.append(project_path)\n",
    "from newton_raphson import newton_raphson\n",
    "\n",
    "# Import NumPy library to be used in this notebook (Don't touch!)\n",
    "import numpy as np\n",
    "\n",
    "# Define the first function here!\n",
    "def f(x,y):\n",
    "    return x**2+x*y-10\n",
    "\n",
    "# Define the derivative of the first function with respect to x here!\n",
    "def dfx(x,y):\n",
    "    return 2*x+y\n",
    "\n",
    "# Define the derivative of the first function with respect to y here!\n",
    "def dfy(x,y):\n",
    "    return x\n",
    "\n",
    "# Define the second function here!\n",
    "def g(x,y):\n",
    "    return y+3*x*y**2-57\n",
    "\n",
    "# Define the derivative of the second function with respect to x here!\n",
    "def dgx(x,y):\n",
    "    return 3*y**2\n",
    "\n",
    "# Define the derivative of the second function with respect to y here!\n",
    "def dgy(x,y):\n",
    "    return 1+6*x*y\n",
    "    \n",
    "# Perscribe the initial guesses here!\n",
    "x0 = -2.5\n",
    "y0 = 13.5\n",
    "\n",
    "# Perscribe the tolerances for the residual!\n",
    "epsilon = 1e-30\n",
    "\n",
    "# Perscribe the maximum number of iterations here!\n",
    "max_iterations = 100\n",
    "\n",
    "# Call the solver\n",
    "root = newton_raphson(f, dfx, dfy, g, dgx, dgy, x0, y0, epsilon, max_iterations)"
   ]
  },
  {
   "cell_type": "markdown",
   "id": "9c80dc04-b419-4d6b-8d82-7f32f9555f45",
   "metadata": {},
   "source": [
    "# Numerical Example 4: Calculating a reaction force for a cantilever beam"
   ]
  },
  {
   "cell_type": "markdown",
   "id": "2cf01283-29cf-4957-870e-ba9cde0eddeb",
   "metadata": {},
   "source": [
    "Consider the following canilever beam, subjected to a uniformly distributed load $w$ acting over length $L$, and a concentrated force $F$ applied at distance $a$ measured from the clamping, as shown in the following figure:\n",
    "\n",
    "![beam](beam.jpeg)\n",
    "\n",
    "It is required to calculate the bending moment reaction at point $A$. Using simple static analysis, the sum of moments can be written as follows:\n",
    "\n",
    "$$\\Sigma M_A = M_A - (w)(L)(\\frac{L}{2}) - (F)(a) = 0$$\n",
    "\n",
    "Thus, we can define a function $f$:\n",
    "\n",
    "$$f(x) = x - (w)(L)(\\frac{L}{2}) - (F)(a) = 0$$\n",
    "\n",
    "and calculate its derivative as follows:\n",
    "\n",
    "$$f'(x) = 1 $$\n"
   ]
  },
  {
   "cell_type": "code",
   "execution_count": 1,
   "id": "6b58a579-a751-4c23-8828-ebb6c0a63eab",
   "metadata": {},
   "outputs": [
    {
     "name": "stdout",
     "output_type": "stream",
     "text": [
      "Iteration |        x        |       f(x)      \n",
      "------------------------------------------------\n",
      "    1     |  -25.00000000   |  -842.50000000 \n",
      "    2     |  817.50000000   |   0.00000000   \n",
      "Root found at x = 817.50000000 after 2 iterations.\n"
     ]
    }
   ],
   "source": [
    "# Import the solver function \"newton\" to be called from this notebook (Don't touch!)\n",
    "import sys\n",
    "import os\n",
    "project_path = os.path.abspath(\"..\")\n",
    "sys.path.append(project_path)\n",
    "from newton import newton\n",
    "\n",
    "# Import NumPy library to be used in this notebook (Don't touch!)\n",
    "import numpy as np\n",
    "\n",
    "# Define w, L, F and a here!\n",
    "w = 3\n",
    "L = 15\n",
    "F = 60\n",
    "a = 8\n",
    "\n",
    "# Define the function here!\n",
    "def f(x):\n",
    "    return x - (w*L**2)/2-F*a\n",
    "\n",
    "# Define the derivative of the function here!\n",
    "def df(x):\n",
    "    return 1\n",
    "    \n",
    "# Perscribe the initial guess here!\n",
    "x0 = -25\n",
    "\n",
    "# Perscribe the tolerances for input and output here!\n",
    "epsilon_1 = 1e-30 # tolerance for input\n",
    "epsilon_2 = 1e-30 # tolerance for output\n",
    "\n",
    "# Perscribe the maximum number of iterations here!\n",
    "max_iterations = 100\n",
    "\n",
    "# Call the solver\n",
    "root = newton(f, df, x0, epsilon_1, epsilon_2, max_iterations)"
   ]
  },
  {
   "cell_type": "markdown",
   "id": "05c5b7fa-94f6-4d66-96ec-24effb360ba4",
   "metadata": {},
   "source": [
    "# Numerical Example 5: Calculating velocity components"
   ]
  },
  {
   "cell_type": "markdown",
   "id": "93881e75-a536-41c3-809d-06dbd3bd3230",
   "metadata": {},
   "source": [
    "Consider a particle moving in-plane, with constant accelerations. It is required to calculate the velocity components $v_x$ and $v_y$. The velocity components are constrained by two conditions:\n",
    "\n",
    "Condition 1: The magnitude of the speed remains at $50$. This means that\n",
    "\n",
    "$$f(v_x, v_y) = \\sqrt{v_x^2 + v_y^2} - 50 = 0$$\n",
    "\n",
    "Condition 2: Because of the physics of the problem, the velocity components $v_x$ and $v_y$ are related together through the equation:\n",
    "\n",
    "$$g(v_x, v_y) = 2v_x + 3v_y - 30 = 0$$\n",
    "\n",
    "It is required to get the componenets $v_x$ and $v_y$ that satisfy both $f$ and $g$ simultaneously. The functions $f$ and $g$ and their partial derivatives are defined below.\n"
   ]
  },
  {
   "cell_type": "code",
   "execution_count": 92,
   "id": "932e62f4-c0b0-49ff-bcee-eaa773e3e013",
   "metadata": {},
   "outputs": [
    {
     "name": "stdout",
     "output_type": "stream",
     "text": [
      "Iteration |        x        |        y        |      ||F||      \n",
      "---------------------------------------------------------------\n",
      "    1     |   3.00000000    |   4.00000000    |   46.57252409  \n",
      "    2     |  630.00000000   |  -410.00000000  |  701.66481892  \n",
      "    3     |   46.14380917   |  -20.76253944   |   0.59974475   \n",
      "    4     |   45.63790474   |  -20.42526983   |   0.00009996   \n",
      "    5     |   45.63782039   |  -20.42521359   |   0.00000000   \n",
      "    6     |   45.63782039   |  -20.42521359   |   0.00000000   \n",
      "    7     |   45.63782039   |  -20.42521359   |   0.00000000   \n",
      "Root found at (x, y) = (45.63782039, -20.42521359) after 7 iterations.\n"
     ]
    }
   ],
   "source": [
    "# Import the solver function \"newton_raphson\" to be called from this notebook (Don't touch!)\n",
    "import sys\n",
    "import os\n",
    "project_path = os.path.abspath(\"..\")\n",
    "sys.path.append(project_path)\n",
    "from newton_raphson import newton_raphson\n",
    "\n",
    "# Import NumPy library to be used in this notebook (Don't touch!)\n",
    "import numpy as np\n",
    "\n",
    "# Define the first function here!\n",
    "def f(x,y):\n",
    "    return np.sqrt(x**2 + y**2) - 50\n",
    "\n",
    "# Define the derivative of the first function with respect to x here!\n",
    "def dfx(x,y):\n",
    "    return x / np.sqrt(x**2 + y**2)\n",
    "\n",
    "# Define the derivative of the first function with respect to y here!\n",
    "def dfy(x,y):\n",
    "    return y / np.sqrt(x**2 + y**2)\n",
    "\n",
    "# Define the second function here!\n",
    "def g(x,y):\n",
    "    return 2*x + 3*y - 30\n",
    "\n",
    "# Define the derivative of the second function with respect to x here!\n",
    "def dgx(x,y):\n",
    "    return 2\n",
    "\n",
    "# Define the derivative of the second function with respect to y here!\n",
    "def dgy(x,y):\n",
    "    return 3\n",
    "    \n",
    "# Perscribe the initial guesses here!\n",
    "x0 = 3\n",
    "y0 = 4\n",
    "\n",
    "# Perscribe the tolerances for the residual!\n",
    "epsilon = 1e-30\n",
    "\n",
    "# Perscribe the maximum number of iterations here!\n",
    "max_iterations = 100\n",
    "\n",
    "# Call the solver\n",
    "root = newton_raphson(f, dfx, dfy, g, dgx, dgy, x0, y0, epsilon, max_iterations)"
   ]
  }
 ],
 "metadata": {
  "kernelspec": {
   "display_name": "Python [conda env:base] *",
   "language": "python",
   "name": "conda-base-py"
  },
  "language_info": {
   "codemirror_mode": {
    "name": "ipython",
    "version": 3
   },
   "file_extension": ".py",
   "mimetype": "text/x-python",
   "name": "python",
   "nbconvert_exporter": "python",
   "pygments_lexer": "ipython3",
   "version": "3.12.7"
  }
 },
 "nbformat": 4,
 "nbformat_minor": 5
}
